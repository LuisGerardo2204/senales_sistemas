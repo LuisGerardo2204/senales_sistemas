{
 "cells": [
  {
   "cell_type": "markdown",
   "id": "ad2c5319-8bce-4850-855b-2d32247a725f",
   "metadata": {},
   "source": [
    "# Práctica 3: Solución de ecuaciones diferenciales lineales con coeficientes constantes.\n",
    "\n",
    "Las ecuaciones diferenicales de la forma: \n",
    "\n",
    "```{math}\n",
    ":label: edo_lineal_gral\n",
    "\\begin{equation}\n",
    " a_n\\frac{d^ny(t)}{dt^n}+a_{n-1}\\frac{d^{n-1}y(t)}{dt^{n-1}}+\\cdots+a_0y(t)=0\n",
    "\\end{equation}\n",
    "````\n",
    "donde $a_n \\in \\mathbb{R}$ para $n=0,1,2,3...n$ se conocen como ecuaciones difernciales ordinarias lineales con coeficientes constantes. Para resolver este tipo de ecuaciones diferenciales, se usa una ecuación auxiliar:\n",
    "\n",
    "\n",
    "```{math}\n",
    ":label: edo_lineal_aux\n",
    "\\begin{equation}\n",
    " a_nD^n+a_{n-1}D^{n-1}+\\cdots+a_0=0\n",
    "\\end{equation}\n",
    "````\n",
    "Al encontrar las raices de la ecuacion auxiliar {eq}`edo_lineal_aux` se encuetra la estructura general de la solución de la ecuación diferencial dada por la  ecuación {eq}`edo_lineal_gral`. La siguiente tabla nos dice las posibilidades:\n",
    "\n",
    "\n",
    "```{list-table} Tabla de soluciones para la EDO homogénea\n",
    ":header-rows: 1\n",
    ":name: Tabla_sol\n",
    "* - Raices de la ecuación auxiliar\n",
    "  - Función solución candidata\n",
    "* - Una raiz real $\\alpha_1$\n",
    "  - $C_1e^{\\alpha_1t}$\n",
    "* - Dos raices reales y distintas $\\alpha_1$ y $\\alpha_2$\n",
    "  - $C_1e^{\\alpha_1t}+C_2e^{\\alpha_2t}$\n",
    "* - Dos raices reales e iguales $\\alpha_1=\\alpha_2=\\alpha$ \n",
    "  - $(C_1+C_2t)e^{\\alpha t}$ \n",
    "* - Tres raices reales e iguales $\\alpha_1=\\alpha_2=\\alpha_3=\\alpha$ \n",
    "  - $(C_1+C_2t+C_3t^2)e^{\\alpha t}$ \n",
    "* - Dos raices complejas conjugadas $\\alpha \\pm i\\beta$\n",
    "  - $(C_1cos(\\beta t)+C_2sen(\\beta t))e^{\\alpha t}$ \n",
    "* - Dos pares de raices complejas iguales $\\alpha \\pm i\\beta$\n",
    "  - $[(C_1+C_2t)cos(\\beta )+(C_1+C_2t)sen(\\beta ))]e^{\\alpha t}$   \n",
    "```\n",
    "Los valores de las constantes $C_1$ y $C_2$ están determinados por las condiciones iniciales $y(0)$ y $\\dot{y}(0)$.\n",
    "Las raices de la ecuación auxiliar se pueden calcular usando MATLAB, por medio del comando `roots()`. Por ejemplo, se puede encontrar la función de movimiento del sistema masa resorte amortiguador, cuyos parámetros se presentan en la {numref}`Tabla_param` y condiciones iniciales $x(0)=0.025~[m]$ y $\\dot{x}(0)=0~[m/s]$\n",
    "\n",
    "```{list-table} Tabla de parámetros\n",
    ":header-rows: 1\n",
    ":name: Tabla_param\n",
    "* - $$Parámetro$$\n",
    "  - $$Valor$$\n",
    "* - $$m$$\n",
    "  - $$43~[grs]$$\n",
    "* - $$b$$\n",
    "  - $$0.0015~[Ns/m]$$\n",
    "* - $$k$$  \n",
    "  - $$4.3~[N/m]$$ \n",
    "* - $$f(t)$$ \n",
    "  - $$0~[N]$$\n",
    "```\n",
    "En este caso, la ecuación diferencial, se encuentra sustituyendo los valores de $m$, $b$ y $k$ para obtener:\n",
    "\n",
    "```{math}\n",
    ":label: edombk\n",
    "\\begin{equation}\n",
    "  0.043\\frac{d^2x(t)}{dt^2}+0.0015\\frac{dx(t)}{dt}+4.3x(t)=0\n",
    "\t\\end{equation}\n",
    "```\n",
    "la ecuación auxiliar toma la forma:\n",
    "\n",
    "```{math}\n",
    ":label: edo_aux\n",
    "\\begin{equation}\n",
    " 0.043D^2+0.0015D+4.3=0\n",
    "\\end{equation}\n",
    "````\n",
    "Las raices se obtienen usado la siguiente instrucción en MATLAB:"
   ]
  },
  {
   "cell_type": "code",
   "execution_count": 3,
   "id": "bb8928b6-7d7b-4590-a11b-01f193cfed15",
   "metadata": {},
   "outputs": [
    {
     "data": {
      "text/html": [
       "<html><body><pre>ans = \n",
       "  -0.0174 +10.0000i\n",
       "  -0.0174 -10.0000i\n",
       "</pre></body></html>"
      ],
      "text/plain": [
       "ans = \n",
       "  -0.0174 +10.0000i\n",
       "  -0.0174 -10.0000i\n"
      ]
     },
     "execution_count": 3,
     "metadata": {},
     "output_type": "execute_result"
    }
   ],
   "source": [
    "roots([0.043 0.0015 4.3])"
   ]
  },
  {
   "cell_type": "markdown",
   "id": "44b6b8b4-c191-4b11-b8be-04408f37fe25",
   "metadata": {},
   "source": [
    "Entonces la solución $x(t)$ para este sistema es la función de movimiento de la masa $m$ y toma la forma:\n",
    "\n",
    "```{math}\n",
    ":label: ec_mov\n",
    "\\begin{equation}\n",
    " x(t)=(C_1cos(10t)+C_2sen(10t))e^{-0.0174t}\n",
    "\\end{equation}\n",
    "````\n",
    "Usando las condiciones iniciales $x(0)=0.025$ y $\\dot{x}(0)=0$:\n",
    "\n",
    "$$\n",
    "\\begin{eqnarray}\n",
    " x(0)=0.025=(C_1cos(10(0))+C_2sen(10(0)))e^{-0.0174(0)}=C_1\\\\\n",
    "\\dot{x}(t)=\\frac{d[(C_1cos(10t)+C_2sen(10t))e^{-0.0174t}]}{dt}=0\\\\\n",
    "\\end{eqnarray}\n",
    "$$\n",
    "\n",
    "De aqui se desprende que:\n",
    "\n",
    "$$\n",
    "\\dot{x}(t)=(-C_110sen(10t)+C_210cos(10t))e^{-0.0174t}-0.0174(C_1cos(10t)+C_2sen(10t))e^{-0.0174t}\n",
    "$$\n",
    "\n",
    "sustituyendo $C_1=0.025$ y evaluando la derivada de $x(t)$ en $t=0$:\n",
    "\n",
    "$$\n",
    "0=(-0.025(10)sen(10(0))+C_2(10)cos(10(0)))e^{-0.0174(0)}-0.0174(0.025cos(10(0))+C_2sen(10(0)))e^{-0.0174(0)}\n",
    "$$\n",
    "\n",
    "$$\n",
    "0=C_2(10))-0.0174(0.025)\n",
    "$$\n",
    "\n",
    "Finalmente $C_2=4.35\\times 10^{-5}$\n",
    "\n",
    "Entonces, la ecuación diferencial tiene por solución a la función $x(t)$, o bien la ecuación de movimiento:\n",
    "\n",
    "$$\n",
    "x(t)=e^{-0.0174t}(0.025cos(10t)+4.35\\times 10^{-5}sen(10t))~[m]\n",
    "$$\n",
    "\n",
    "Es posible graficar esta solución:\n"
   ]
  },
  {
   "cell_type": "code",
   "execution_count": 2,
   "id": "9b891199-18a3-42a7-92fa-b8988c1eb2dd",
   "metadata": {},
   "outputs": [
    {
     "data": {
      "image/png": "[encoded data removed]"
     },
     "execution_count": 2,
     "metadata": {},
     "output_type": "execute_result"
    }
   ],
   "source": [
    "t=[0:0.001:20];\n",
    "x=exp(-0.0174*t).*(0.025*cos(10*t)+(4.35e-5)*sin(10*t));\n",
    "plot(t,x)\n",
    "xlabel(\"t [s]\")\n",
    "ylabel(\"x(t) [m]\")"
   ]
  },
  {
   "cell_type": "code",
   "execution_count": null,
   "id": "59948ff6-934a-4f78-bb89-0ad4620ee87f",
   "metadata": {},
   "outputs": [],
   "source": []
  }
 ],
 "metadata": {
  "kernelspec": {
   "display_name": "MATLAB Kernel",
   "language": "matlab",
   "name": "jupyter_matlab_kernel"
  },
  "language_info": {
   "file_extension": ".m",
   "mimetype": "text/x-matlab",
   "name": "matlab"
  }
 },
 "nbformat": 4,
 "nbformat_minor": 5
}

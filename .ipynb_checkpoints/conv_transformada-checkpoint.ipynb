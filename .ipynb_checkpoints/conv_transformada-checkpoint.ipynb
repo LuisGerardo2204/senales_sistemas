{
 "cells": [
  {
   "cell_type": "markdown",
   "id": "ad2c5319-8bce-4850-855b-2d32247a725f",
   "metadata": {},
   "source": [
    "# Transformada de Laplace aplicada al análisis de sistemas lineales.\n",
    "\n",
    "Como se trató en secciones anteriores, la integral de convolución {eq}`convolucion` permite encontrar la respuesta de los sistemas lineales e invariantes en el tiempo a partir del conocimiento de su respuesta al impulso. La transformada de Laplace permite convertir un problema de cálculo en uno de álgebra, entonces, la transformada de laplace al ser aplicada a la integral de convolución convierte esta operación en un producto tal que\n",
    "\n",
    "```{math}\n",
    ":label: conv_Laplace\n",
    " \\mathscr{L} \\left\\{ y(t) \\right\\}= Y(s)=\\mathscr{L} \\left\\{ x(t)*h(t) \\right\\}=\\mathscr{L} \\left\\{ \\int^{\\infty}_{-\\infty}x(\\tau)h(t-\\tau)d\\tau \\right\\}=X(s)H(s)\n",
    "```\n",
    "\n",
    "Como era de esperarse, el operador transformada convierte a la integral de convolución en un producto simple de transformadas. Este concepto es ampliamente utilizado en teoría de control de sistemas lineales por que permite el uso de las herramientas del álgebra en el modelado de sistemas dinámicos. Es claro que la señal de salida $y(t)$ es la transformada inversa de $Y(s)$, es decir:\n",
    "\n",
    "$$\n",
    "y(t)= \\mathscr{L}^{-1} \\left\\{ Y(s) \\right\\}\n",
    "$$\n",
    "\n",
    "Es importante mencionar que la respuesta al impulso de un sistema lineal invariante en el tiempo se puede obtener fácilmente aplicando la transformada de Laplace, dado que según se reporta en la {numref}`Tabla_transformadas` la transformada de Laplace del impulso unitario es igual a uno. Esta propiedad permite encontrar la respuesta a la entrada tipo impulso de un sistema de forma directa, en vez de calcular primero la respuesta al escalon y derivando como se establece en la ecuación {eq}`deriv_impulso`.\n",
    "\n",
    "```{admonition} Determinación de la respuesta de un sistema lineal e invariante en el tiempo\n",
    "Para encontrar la respuesta de un sistema lineal usando la trasformada de Laplace se sigue el siguiente procedimiento:\n",
    " \n",
    " 1. Encuentre la respuesta al impulso del sistema usando como estímulo la función $\\delta(t)$, tal como se define el la ecuación {eq}`impulso`. \n",
    " \n",
    " 2.- Encuentre la transformada de Laplace del estímulo o entrada $x(t)$.\n",
    "\n",
    " 3.- Determine la salida $y(t)$ obteniendo la transformada inversa del producto $X(s)H(s)$.\n",
    "\n",
    "Este procedimiento es válido debido a la propiedad de la transformada de Laplace definida en la ecuación {eq}`conv_Laplace`.\n",
    "\n",
    "```\n",
    "Por ejemplo, la respuesta al impulso del circuito RLC, aplicando la trasformada de Laplace se obtiene al pantear la ecuación diferencial\n",
    "\n",
    "$$\n",
    "\\begin{equation}\n",
    "  LC\\frac{d^2v_c(t)}{dt^2}+RC\\frac{dv_c(t)}{dt}+v_c(t)=\\delta(t)\n",
    "\t\\end{equation}\n",
    "$$\n",
    "\n",
    "Aplicando la transformada de Laplace se obtiene la expresión algebraica:\n",
    "\n",
    "\n",
    "$$\n",
    "  \\mathscr{L} \\left\\{ LC\\frac{d^2v_c(t)}{dt^2}+RC\\frac{dv_c(t)}{dt}+v_c(t) \\right\\}=  \\mathscr{L} \\left\\{ \\delta(t) \\right\\}\n",
    "$$\n",
    "\n",
    "Dado que se consideran condiciones iniciales nulas se obtiene:\n",
    "\n",
    "$$\n",
    "[LCs^2+RCs+1]V_c(s) =  1\n",
    "$$\n",
    "\n",
    "Despejando $V_c(s)$:\n",
    "\n",
    "\n",
    "$$\n",
    "V_c(s)=\\frac{1}{LCs^2+RCs+1}\n",
    "$$\n",
    "\n",
    "Nótese que en este caso $V_c(s)=H(s)$Si se aplican los valores numéricos para los parámetros $R$, $L$ y $C$, los reportados en la {numref}`Tabla_paramRLC` se obtiene:\n",
    "\n",
    "$$\n",
    "H(s)=\\frac{1}{1.661\\times 10^{-5}s^2+0.0018s+1}\n",
    "$$\n",
    "\n",
    "Entonces, para encontrar la respuesta del sistema ante cualquier otra señal de estímulo se usa la propiedad del producto y la transformada inversa de Laplace. Por ejemplo, para encontrar la respuesta del circuiro RLC mostrado en la {numref}`RLC` cuando $v_s=3.4e^{-4.5t}$ se usa la expresión:\n",
    "\n",
    "$$\n",
    "v_c(t)=\\mathscr{L}^{-1} \\left\\{ V_c(s) \\right\\}\n",
    "$$\n",
    "\n",
    "donde:\n",
    "\n",
    "$$\n",
    "V_c(s)=H(s)V_s(s)=\\left ( \\frac{1}{1.661\\times 10^{-5}s^2+0.0018s+1}\\right )\\left ( \\frac{3.4}{s+4.5}\\right )=\\frac{3.4}{(s+4.5)(1.661\\times 10^{-5}s^2+0.0018s+1)}\n",
    "$$\n",
    "\n",
    "La tansformada inversa se puede obtener haciedo uso del comando `residue()` como en la práctica anterior:\n"
   ]
  },
  {
   "cell_type": "code",
   "execution_count": 1,
   "id": "de7e1736-c2ce-401d-8df8-45900b7a7c8e",
   "metadata": {},
   "outputs": [
    {
     "data": {
      "text/html": [
       "<html><body><pre>r = \n",
       "  -1.7133 + 0.3557i\n",
       "  -1.7133 - 0.3557i\n",
       "   3.4266 + 0.0000i\n",
       "</pre></body></html>"
      ],
      "text/plain": [
       "r = \n",
       "  -1.7133 + 0.3557i\n",
       "  -1.7133 - 0.3557i\n",
       "   3.4266 + 0.0000i\n"
      ]
     },
     "execution_count": 1,
     "metadata": {},
     "output_type": "execute_result"
    },
    {
     "data": {
      "text/html": [
       "<html><body><pre>p = \n",
       "   1.0e+02 *\n",
       "\n",
       "  -0.5418 + 2.3931i\n",
       "  -0.5418 - 2.3931i\n",
       "  -0.0450 + 0.0000i\n",
       "</pre></body></html>"
      ],
      "text/plain": [
       "p = \n",
       "   1.0e+02 *\n",
       "\n",
       "  -0.5418 + 2.3931i\n",
       "  -0.5418 - 2.3931i\n",
       "  -0.0450 + 0.0000i\n"
      ]
     },
     "execution_count": 1,
     "metadata": {},
     "output_type": "execute_result"
    },
    {
     "name": "stdout",
     "output_type": "stream",
     "text": [
      "\n",
      "k =\n",
      "\n",
      "     []\n",
      "\n"
     ]
    }
   ],
   "source": [
    "clear\n",
    "close all\n",
    "clc\n",
    "\n",
    "num=[3.4];\n",
    "den=conv([1 4.5],[1.661e-5 0.0018 1]); % el comando conv() tambien permite multiplicar polinomios\n",
    "\n",
    "[r,p,k] = residue(num,den)"
   ]
  },
  {
   "cell_type": "markdown",
   "id": "c8230ca7-3dea-412f-b101-322705dee715",
   "metadata": {},
   "source": [
    "El resultado anterior se interpreta como la descomposición en fracciones parciales siguiente:\n",
    "\n",
    "$$\n",
    "V_c(s)=\\frac{3.4266}{s+4.5}+\\frac{-1.7133+0.3557j}{s+54.18 + 239.31j}+\\frac{-1.7133-0.3557j}{s+54.18 - 239.31j}\n",
    "$$\n",
    "\n",
    "con $j=\\sqrt{-1}$. La salida $v_c(t)$ es la transformada inversa de Laplace de esta última expresión, de manera que se puede aplicar directamente, de acuerdo con la {numref}`Tabla_transformadas` $ \\mathscr{L}^{-1} \\left\\{ \\frac{3.4266}{s+4.5} \\right\\}=3.4266e^{-4.5t}$ y al resto de la expresión se le aplica la equivalencia expresada en la ecuación {eq}`residuos_general` para obtener:\n",
    "\n",
    "$$\n",
    "v_c(t)=3.4266e^{-4.5t}+e^{-54.18t}\\left ( -3.4266cos(239.31t)- 0.7114sen(239.31t)\\right )\n",
    "$$\n",
    "\n",
    "es posible comparar este resultado con el que se obtiene utilizando la convolución numérica, es decir usando el comando `conv()` de MATLAB como se hizo en prácticas anteriroes.\n"
   ]
  },
  {
   "cell_type": "code",
   "execution_count": 26,
   "id": "c1ae02f7-0add-4d2a-a4c7-6172cfbece32",
   "metadata": {},
   "outputs": [
    {
     "data": {
      "image/png": "[encoded data removed]"
     },
     "execution_count": 26,
     "metadata": {},
     "output_type": "execute_result"
    }
   ],
   "source": [
    "clear \n",
    "close all\n",
    "clc\n",
    "\n",
    "dt=0.0001;\n",
    "t=[0:dt:1];\n",
    "\n",
    "ht= @(x) (x>=0).*(261.7287*sin(239.58*x)).*exp(-52.98*x);\n",
    "xt= @(x) 3.4*exp(-4.5*x);\n",
    "vc= @(x) 3.4266.*exp(-4.5*x)+exp(-54.18*x).*( -3.4266*cos(239.31*x)-0.7114*sin(239.31*x));\n",
    "\n",
    "\n",
    "y=dt*conv(xt(t),ht(t));\n",
    "ty=dt*(1:length(y))+2*min(t);\n",
    "figure\n",
    "plot(ty,y)\n",
    "hold on\n",
    "plot(t,vc(t))\n",
    "xlabel(\"t\")\n",
    "ylabel(\"v_c(t)\")\n",
    "title(\"v_c(t)=\\int^{1}_{0}x(\\tau)h(t-\\tau)d\\tau\")\n",
    "set(gca,'fontsize',10);\n",
    "xlim([0 max(t)])\n",
    "legend(\"v_c con cálculo\",\"v_c usando transformada\")\n",
    "grid\n",
    "\n"
   ]
  },
  {
   "cell_type": "code",
   "execution_count": null,
   "id": "ef0c868f-ae96-404b-8a0c-f4beb8651812",
   "metadata": {},
   "outputs": [],
   "source": []
  }
 ],
 "metadata": {
  "kernelspec": {
   "display_name": "MATLAB Kernel",
   "language": "matlab",
   "name": "jupyter_matlab_kernel"
  },
  "language_info": {
   "file_extension": ".m",
   "mimetype": "text/x-matlab",
   "name": "matlab"
  }
 },
 "nbformat": 4,
 "nbformat_minor": 5
}

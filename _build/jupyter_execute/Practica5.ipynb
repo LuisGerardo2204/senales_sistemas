{
 "cells": [
  {
   "cell_type": "markdown",
   "id": "ad2c5319-8bce-4850-855b-2d32247a725f",
   "metadata": {},
   "source": [
    "# Práctica 5: Solución de ecuaciones diferenciales ordinarias lineales usando la transformada de Laplace.\n",
    "\n",
    "En la sección anterior, se encontró la solución a una ecuación diferencial de segundo orden usando la {numref}`Tabla_transformadas` para encontrar la similitud de la función $X(s)$ del caso bajo análisis con algún par de transformadas conocido. En esta práctica usaremos la herramienta MATLAB para encontrar la solución de ecuaciones diferenciales, aplicando la transformada de Laplace.\n",
    "\n",
    "Retomaremos el caso de la ecuación diferencial ordinaria, con condiciones iniciales $x(0)=0.01$ y $\\dot{x}(0)=0.5$:\n",
    "\n",
    "$$\n",
    "4.5\\frac{d^2x(t)}{dt^2}+2\\frac{dx(t)}{dt}+350x(t)=0\n",
    "$$\n",
    "\n",
    "Al aplicar la transformada de Laplace a esta expresión obtuvimos la función en la variable compleja $s=\\sigma +j\\omega$ expresada como:\n",
    "\n",
    "$$\n",
    "X(s)=\\frac{0.045s+2.27}{4.5s^2+2s+350}\n",
    "$$\n",
    "\n",
    "En la sección anterior, aplicamos la descomposición en dos fracciones parciales y completamos el trinomio en el denominador para obtener la solución $x(t)$ de la ecuación diferencial original. En esta práctica utilizaremos las herramientas que incluye MATLAB para complementar de forma numérica la aplicación de la transformada de Laplace a la solución de ecuaciones diferenciales. \n",
    "\n",
    "La primera herramienta a utilizar es el módulo de transformadas de Laplace con cálculos simbólicos, por ejemplo para encontrar las transformadas de Laplace de las siguientes funciones se utilizan los comandos `syms` para invocar al modo simbólico de MATLAB y las funciones `laplace()` e `ilaplace()` para calcular las transformadas de dominio del tiempo al dominio de la frecuencia y el proceso inverso."
   ]
  },
  {
   "cell_type": "code",
   "execution_count": 7,
   "id": "de7e1736-c2ce-401d-8df8-45900b7a7c8e",
   "metadata": {},
   "outputs": [
    {
     "name": "stdout",
     "output_type": "stream",
     "text": [
      "transformada de Laplace de la función x(t)\n"
     ]
    },
    {
     "data": {
      "text/latex": [
       "$ans =\\frac{1}{s+3}$"
      ]
     },
     "execution_count": 7,
     "metadata": {},
     "output_type": "execute_result"
    }
   ],
   "source": [
    "clear\n",
    "close all\n",
    "clc\n",
    "\n",
    "syms t s  % modo simbólico en MATLAB, se expresan las variables a tomarse como simbólicas\n",
    "disp(\"transformada de Laplace de la función x(t)\")\n",
    "laplace(exp(-3*t))\n"
   ]
  },
  {
   "cell_type": "markdown",
   "id": "e7dda0df-810e-4e50-9da1-a63b579b436c",
   "metadata": {},
   "source": [
    "Para ilustrar con un ejemplo, calcularemos simbólicamente la transformada inversa de \n",
    "\n",
    "$$\n",
    "X(s)=\\frac{0.045s+2.27}{4.5s^2+2s+350}\n",
    "$$\n"
   ]
  },
  {
   "cell_type": "code",
   "execution_count": 9,
   "id": "8904bc01-df3c-42f9-a64c-e32c5c73b536",
   "metadata": {},
   "outputs": [
    {
     "data": {
      "text/latex": [
       "$ans =\\frac{{\\mathrm{e}}^{-\\frac{2\\,t}{9}} \\,{\\left(\\cos \\left(\\frac{2\\,\\sqrt{1574}\\,t}{9}\\right)+\\frac{113\\,\\sqrt{1574}\\,\\sin \\left(\\frac{2\\,\\sqrt{1574}\\,t}{9}\\right)}{787}\\right)}}{100}$"
      ]
     },
     "execution_count": 9,
     "metadata": {},
     "output_type": "execute_result"
    }
   ],
   "source": [
    "ilaplace((0.045*s+2.27)/(4.5*s^2+2*s+350))"
   ]
  },
  {
   "cell_type": "markdown",
   "id": "04b960d3-15e1-44e1-822e-20a1198cb656",
   "metadata": {},
   "source": [
    "Una forma alternativa de abordar el problema es usando el comando `residue()` el cual proporciona una descomposición en fracciones parciales de una funcion $X(s)$. Esta descomposición en fracciones parciales a menudo implica raices complejas, por ejemplo, para la función:\n",
    "\n",
    "$$\n",
    "X(s)=\\frac{0.045s+2.27}{4.5s^2+2s+350}\n",
    "$$\n",
    "\n",
    "Se calcula su expansión en fracciones parciales usando las instrucciones:\n"
   ]
  },
  {
   "cell_type": "code",
   "execution_count": 10,
   "id": "3b4d9cac-68ec-4354-ae8b-a2482920facd",
   "metadata": {},
   "outputs": [
    {
     "data": {
      "text/html": [
       "<html><body><pre>r = \n",
       "   0.0050 - 0.0285i\n",
       "   0.0050 + 0.0285i\n",
       "</pre></body></html>"
      ],
      "text/plain": [
       "r = \n",
       "   0.0050 - 0.0285i\n",
       "   0.0050 + 0.0285i\n"
      ]
     },
     "execution_count": 10,
     "metadata": {},
     "output_type": "execute_result"
    },
    {
     "data": {
      "text/html": [
       "<html><body><pre>p = \n",
       "  -0.2222 + 8.8164i\n",
       "  -0.2222 - 8.8164i\n",
       "</pre></body></html>"
      ],
      "text/plain": [
       "p = \n",
       "  -0.2222 + 8.8164i\n",
       "  -0.2222 - 8.8164i\n"
      ]
     },
     "execution_count": 10,
     "metadata": {},
     "output_type": "execute_result"
    },
    {
     "name": "stdout",
     "output_type": "stream",
     "text": [
      "\n",
      "k =\n",
      "\n",
      "     []\n",
      "\n"
     ]
    }
   ],
   "source": [
    "clear\n",
    "close all\n",
    "clc\n",
    "\n",
    "num=[0.045 2.27];\n",
    "den=[4.5 2 350];\n",
    "\n",
    "[r,p,k] = residue(num,den)"
   ]
  },
  {
   "cell_type": "markdown",
   "id": "d78e9e61-5d00-4671-b07d-bea09933aa34",
   "metadata": {},
   "source": [
    "En el arreglo r se almacenan los residuos o bien las raíces del polinomio en la variable compleja $s$ del numerador, mientras que en la variable p se almacenan las raices del denominador que también se conocen como los polos del sistema, finalmente en el arreglo k se almacenan los valores de los coeficientes constantes.\n",
    "Se puede expresar la forma general de la expansión en fracciones parciales de la función $X(s)$:\n",
    "\n",
    "$$\n",
    "X(s)=\\frac{0.045s+2.27}{4.5s^2+2s+350}=\\frac{0.0050 - 0.0285j}{s+0.2222 + 8.8164j}+\\frac{0.0050 + 0.0285j}{s+0.2222 - 8.8164j}\n",
    "$$\n",
    "\n",
    "Las raíces complejas almacenadas en $r$ permiter hacer uso de las identidades de Euler y aplicarlas para obtener una forma generalizada del par de transformadas $Ae^{-\\alpha t} \\leftrightarrows \\frac{A}{s+\\alpha}$, las identidades de Euler se expresan como:\n",
    "\n",
    "$$\n",
    "\\begin{eqnarray}\n",
    "e^{jx}=cos(x)+jsen(x)\\\\\n",
    "cos(x)=\\frac{e^{jx}+e^{-jx}}{2}\\\\\n",
    "sen(x)=\\frac{e^{jx}-e^{-jx}}{2j}\n",
    "\\end{eqnarray}\n",
    "$$\n",
    "\n",
    "Haciendo uso de estas identidades y con los resultados anteriores se puede obtener la transformada inversa fácilmente, haciendo uso de las identidades de Euler para obtener:\n",
    "\n",
    "$$\n",
    "x(t)=(0.0050 - 0.0285j)e^{(-0.2222+8.8164i)t}+(0.0050 + 0.0285j)e^{(-0.2222-8.8164j)t}\n",
    "$$\n",
    "\n",
    "Para hacer uso de la identidad de Euler se factoriza el término $e^{-0.2222t}$:\n",
    "\n",
    "$$\n",
    "x(t)=e^{-0.2222t} \\left ( (0.0050 - 0.0285j)e^{(8.8164j)t}+(0.0050 + 0.0285j)e^{(-8.8164j)t} \\right )\n",
    "$$\n",
    "\n",
    "Agrupando términos y factorizando el término $e^{8.8164jt}+e^{-8.8164jt}$:\n",
    "\n",
    "\n",
    "\n",
    "$$\n",
    "x(t)=e^{-0.2222t} \\left ( 0.0050\\left (  e^{8.8164jt}+e^{-8.8164jt}\\right ) - 0.0285j \\left ( e^{8.8164jt}+e^{-8.8164jt} \\right ) \\right )\n",
    "$$\n",
    "\n",
    "Se puede multiplicar y dividir los terminos $ 0.0050 \\left (  e^{8.8164jt}+e^{-8.8164jt}\\right )$ y $- 0.0285j \\left ( e^{8.8164jt}+e^{-8.8164jt} \\right ) $ por $2$ y $2j$ respectivamente para obtener:\n",
    "\n",
    "$$\n",
    "x(t)=e^{-0.2222t} \\left ( \\frac{0.01\\left (  e^{8.8164jt}+e^{-8.8164jt}\\right ) }{2}+ \\frac{0.0570\\left (  e^{8.8164jt}+e^{-8.8164jt}\\right ) }{2j} \\right )\n",
    "$$\n",
    "\n",
    "\n",
    "Usando $cos(x)=\\frac{e^{jx}+e^{-jx}}{2}$ y $sen(x)=\\frac{e^{jx}-e^{-jx}}{2j}$ se obtiene finalmente la expresión para la función $x(t)$:\n",
    "\n",
    "$$\n",
    "x(t)=e^{-0.2222t} \\left ( 0.01cos(8.8164t) + 0.0570sen(8.8164t)\\right )\n",
    "$$\n",
    "\n",
    "Un ejemplo adicional es el sistema masa-resorte-amortiguador resuelto en la práctica 3, donde la ecuación diferencial adquiere la forma:\n",
    "\n",
    "$$\n",
    "0.043\\ddot{x}+0.0015\\dot{x}+4.3x=0\n",
    "$$\n",
    "\n",
    "Con condiciones iniciales $x(0)=0.025~[m]$ y $\\dot{x}(0)=0~[m/s]$. Aplicando la transformada de Laplace se obtiene:\n",
    "\n",
    "$$\n",
    "0.043[s^2X(s)-sx(0)-\\dot{x}(0)]+0.0015[sX(s)-x(0)]+4.3X(s)=0\n",
    "$$\n",
    "\n",
    "Sustituyendo $x(0)=0.025$ y $\\dot{x}(0)=0$:\n",
    "\n",
    "$$\n",
    "0.043[s^2X(s)-0.025s]+0.0015[sX(s)-0.025]+4.3X(s)=0\n",
    "$$\n",
    "\n",
    "Despejando $X(s)$:\n",
    "\n",
    "$$\n",
    "X(s)=\\frac{(0.025)0.043s+3.75\\times10^{-5}}{0.043s^2+0.0015s+4.3}\n",
    "$$\n"
   ]
  },
  {
   "cell_type": "code",
   "execution_count": 4,
   "id": "a89c59a4-d83e-45b1-a264-092fea62d032",
   "metadata": {},
   "outputs": [
    {
     "data": {
      "text/html": [
       "<html><body><pre>r = \n",
       "   0.0125 - 0.0000i\n",
       "   0.0125 + 0.0000i\n",
       "</pre></body></html>"
      ],
      "text/plain": [
       "r = \n",
       "   0.0125 - 0.0000i\n",
       "   0.0125 + 0.0000i\n"
      ]
     },
     "execution_count": 4,
     "metadata": {},
     "output_type": "execute_result"
    },
    {
     "data": {
      "text/html": [
       "<html><body><pre>p = \n",
       "  -0.0174 +10.0000i\n",
       "  -0.0174 -10.0000i\n",
       "</pre></body></html>"
      ],
      "text/plain": [
       "p = \n",
       "  -0.0174 +10.0000i\n",
       "  -0.0174 -10.0000i\n"
      ]
     },
     "execution_count": 4,
     "metadata": {},
     "output_type": "execute_result"
    },
    {
     "name": "stdout",
     "output_type": "stream",
     "text": [
      "\n",
      "k =\n",
      "\n",
      "     []\n",
      "\n"
     ]
    }
   ],
   "source": [
    "clear\n",
    "close all\n",
    "clc\n",
    "\n",
    "num=[0.025*0.043 3.75e-5];\n",
    "den=[0.043 0.0015 4.3];\n",
    "\n",
    "[r,p,k] = residue(num,den)"
   ]
  },
  {
   "cell_type": "markdown",
   "id": "76afb177-ee1b-45b8-aaa9-ca3630731310",
   "metadata": {},
   "source": [
    "Aplicando el procedimiento anterior se tiene que:\n",
    "\n",
    "$$\n",
    "x(t)=e^{Re(p)t} \\left ( 2Re(r)cos(Im(p)t) + 2Im(r)sen(Im(p)t)\\right )\n",
    "$$\n",
    "\n",
    "donde $Re(p)$ es la parte real del polo almacenado en el arreglo p, $Im(p)$ es la parte imaginaria del polo almacenado en el mismo arreglo p, $Re(r)$ es la parte real del residuo, almacenado en el arreglo r y $Im(p)$ es la parte imaginaria del residuo almacenado en el mismo arreglo r. Sustituyendo los valores numéricos:\n",
    "\n",
    "$$\n",
    "x(t)=e^{-0.0174t} \\left ( 2(0.0125)cos(10t) + 2(0)sen(10t)\\right )=0.025cos(10t)e^{-0.0174t}\n",
    "$$\n",
    "\n",
    "El cual es un resultado muy similar al obtenido en la práctica 3.\n",
    "\n",
    "## Solución de la ecuación diferencial no homogénea\n",
    "\n",
    "Retomando el caso de estudio del circuito RLC, se puede ejemplificar el uso del método de la descomposición en fracciones parciales con MATLAB para la solución de ecuaciones diferenciales aplicando la transformada de Laplace.\n",
    "\n",
    "Para el caso del circuito RLC de la práctica 3, la ecuación diferecial cuando el voltaje de entrada es $1.63u(t)$ tiene la siguiete forma:\n",
    "\n",
    "$$\n",
    "  LC\\frac{d^2v_c(t)}{dt^2}+RC\\frac{dv_c(t)}{dt}+v_c(t)=1.63u(t)\n",
    "$$\n",
    "\n",
    "Sustituyendo los valores de $R$, $L$ y $C$ con los reportados en la {numref}`Tabla_paramRLC` se tiene:\n",
    "\n",
    "$$\n",
    "  1.661\\times 10^{-5}\\frac{d^2v_c(t)}{dt^2}+ 0.0018\\frac{dv_c(t)}{dt}+v_c(t)=1.63\n",
    "$$\n",
    "\n",
    "Aplicado la transformada de Laplace a la ecuación {eq}`edoRLC`, con condiciones iniciales iguales a cero se obtiene:\n",
    "\n",
    "$$\n",
    "  1.661\\times 10^{-5}s^2V_c(s)+ 0.0018sV_c(s)+V_c(s)=\\frac{1.63}{s}\n",
    "$$\n",
    "\n",
    "Despejando $V_c(s)$:\n",
    "\n",
    "$$\n",
    "V_c(s)=\\frac{1.63}{s \\left ( 1.661\\times 10^{-5}s^2+0.0018s+1\\right )}=\\frac{1.63}{ \\left ( 1.661\\times 10^{-5}s^3+0.0018s^2+s\\right )}\n",
    "$$\n",
    "Usando el comando de MATLAB `residue()`"
   ]
  },
  {
   "cell_type": "code",
   "execution_count": 11,
   "id": "27e1a160-b4be-449a-b287-7adc4a4aed16",
   "metadata": {},
   "outputs": [
    {
     "data": {
      "text/html": [
       "<html><body><pre>r = \n",
       "  -0.8150 + 0.1845i\n",
       "  -0.8150 - 0.1845i\n",
       "   1.6300 + 0.0000i\n",
       "</pre></body></html>"
      ],
      "text/plain": [
       "r = \n",
       "  -0.8150 + 0.1845i\n",
       "  -0.8150 - 0.1845i\n",
       "   1.6300 + 0.0000i\n"
      ]
     },
     "execution_count": 11,
     "metadata": {},
     "output_type": "execute_result"
    },
    {
     "data": {
      "text/html": [
       "<html><body><pre>p = \n",
       "   1.0e+02 *\n",
       "\n",
       "  -0.5418 + 2.3931i\n",
       "  -0.5418 - 2.3931i\n",
       "   0.0000 + 0.0000i\n",
       "</pre></body></html>"
      ],
      "text/plain": [
       "p = \n",
       "   1.0e+02 *\n",
       "\n",
       "  -0.5418 + 2.3931i\n",
       "  -0.5418 - 2.3931i\n",
       "   0.0000 + 0.0000i\n"
      ]
     },
     "execution_count": 11,
     "metadata": {},
     "output_type": "execute_result"
    },
    {
     "name": "stdout",
     "output_type": "stream",
     "text": [
      "\n",
      "k =\n",
      "\n",
      "     []\n",
      "\n"
     ]
    }
   ],
   "source": [
    "clear\n",
    "close all\n",
    "clc\n",
    "\n",
    "num=[1.63];\n",
    "den=[1.661e-5 0.0018 1 0];\n",
    "\n",
    "[r,p,k] = residue(num,den)"
   ]
  },
  {
   "cell_type": "markdown",
   "id": "8ed93e9c-ad5a-4c70-8a46-39eca0a17e67",
   "metadata": {},
   "source": [
    "En este caso se obtiene una constante con valor $1.63$ que acompaña al polo en el origen $0+0j$, el resto de los residuos y polos se usan para construir la respuesta completa usando las reglas expuestas anteriormente, de manera que se obtiene:\n",
    "\n",
    "```{math}\n",
    ":label: residuos_general\n",
    "\\begin{equation}\n",
    "v_c(t)=e^{Re(p)t} \\left ( 2Re(r)cos(Im(p)t) + 2Im(r)sen(Im(p)t)\\right )\n",
    "\t\\end{equation}\n",
    "```\n",
    "\n",
    "\n",
    "\n",
    "\n",
    "Sustituyendo los valores numéricos:\n",
    "\n",
    "$$\n",
    "v_c(t)=1.63+e^{-54.18t} \\left ( 2(-0.8150)cos(239.31t) + 2(-0.1845)sen(239.31t)\\right )=\n",
    "$$\n",
    "\n",
    "Finalmente:\n",
    "\n",
    "$$\n",
    "v_c(t)=1.63-e^{-54.18t} \\left ( 1.63cos(239.31t)-0.3690sen(239.31t)\\right )\n",
    "$$\n",
    "\n",
    "cuya gráfica es similar a la de la ecuación {eq}`sol_vc`\n"
   ]
  },
  {
   "cell_type": "code",
   "execution_count": 6,
   "id": "6283e559-23dd-4565-a6c0-e1efe3b37ec1",
   "metadata": {},
   "outputs": [
    {
     "data": {
      "image/png": "[encoded data removed]"
     },
     "execution_count": 6,
     "metadata": {},
     "output_type": "execute_result"
    }
   ],
   "source": [
    "clear \n",
    "close all\n",
    "\n",
    "t=[0:0.001:0.3];\n",
    "v_c=(-1.63*cos(239.58*t)-0.3605*sin(239.58*t)).*exp(-52.98*t)+1.63;\n",
    "v_cL=(-1.63*cos(239.31*t)-0.3690*sin(239.58*t)).*exp(-54.18*t)+1.63;\n",
    "plot(t,v_c)\n",
    "hold on\n",
    "plot(t,v_cL)\n",
    "xlabel(\"t [s]\")\n",
    "ylabel(\"v_c(t) [V]\")\n",
    "legend(\"v_c con cálculo\",\"v_c usando transformada\")"
   ]
  },
  {
   "cell_type": "code",
   "execution_count": null,
   "id": "03a349c0-4b05-47e6-8390-3298a7f354fd",
   "metadata": {},
   "outputs": [],
   "source": []
  }
 ],
 "metadata": {
  "kernelspec": {
   "display_name": "MATLAB Kernel",
   "language": "matlab",
   "name": "jupyter_matlab_kernel"
  },
  "language_info": {
   "file_extension": ".m",
   "mimetype": "text/x-matlab",
   "name": "matlab"
  }
 },
 "nbformat": 4,
 "nbformat_minor": 5
}
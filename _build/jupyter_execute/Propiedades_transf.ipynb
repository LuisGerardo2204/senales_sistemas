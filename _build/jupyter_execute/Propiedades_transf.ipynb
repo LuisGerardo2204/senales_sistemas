{
 "cells": [
  {
   "cell_type": "markdown",
   "id": "7dc8fd17",
   "metadata": {},
   "source": [
    "# Propiedades de la transformada de Laplace.\n",
    "\n",
    "\n",
    "La transformada de Laplace, definida  en la ecuación {eq}`transformada_def` genra una superficie en eñ espacio $\\mathbb{R}^3$, cuando se grafica su magnitud. El siguiente código de MATLAB genera dicha superficie, para la transformada de Laplace bilateral, es decir para la transformada de Laplace definida para ${-\\infty}<t<{\\infty}$."
   ]
  },
  {
   "cell_type": "code",
   "execution_count": 1,
   "id": "2327a166",
   "metadata": {
    "tags": [
     "remove-stderr"
    ]
   },
   "outputs": [
    {
     "data": {
      "image/png": "[encoded data removed]",
      "text/plain": [
       "<IPython.core.display.Image object>"
      ]
     },
     "metadata": {},
     "output_type": "display_data"
    }
   ],
   "source": [
    "clear \n",
    "close all\n",
    "\n",
    "[s_real,s_imaginaria] = meshgrid([-5:0.3:5],[-20:0.5:20]);\n",
    "s = s_real+j*s_imaginaria; %Definición de la variable compleja s=real+imaginaria\n",
    "Xs = @(s) (1)./(2.5*s.^2+3*s+350);  % Transformada de Laplace de la salida de un sistema\n",
    "MagXs = abs(Xs(s));\n",
    "\n",
    "% Se define un rango de frecuencias de interés.\n",
    "omega = [-25:0.1:25];\n",
    "tr = j*omega;\n",
    "% Se produce una retícula para generar la superficie\n",
    "%shading interp;\n",
    "%colormap copper;\n",
    "m1 = mesh(s_real,s_imaginaria,MagXs);\n",
    "hold on;\n",
    "% Se superpone la curva de magnitud de X(s)\n",
    "%  usando el comando plot3().\n",
    "m2 = plot3(real(tr),imag(tr),abs(Xs(tr)),'b','LineWidth',1.5);\n",
    "set(gcf,'Visible','on')\n",
    "hold off;\n",
    "axis([-5,5,-25,25]);\n",
    "% Se especifican los rótulos para los ejes x,y y z.\n",
    "xlabel('\\sigma');\n",
    "ylabel('j\\omega');\n",
    "zlabel('|X(s)|');\n",
    "% Se especifica un ángulo de mejor visualización. \n",
    "view(gca,[23.5,38]);\n",
    "%set(gca,'fontsize',20);\n",
    "%set(gca,'fontname','Times New Roman','FontWeight','Bold'); "
   ]
  },
  {
   "cell_type": "markdown",
   "id": "dc0f774c",
   "metadata": {},
   "source": [
    "Como es claro en la gráfica anterior, la variable compleja $s$ tiene un caso particular cuando la parte real de $s$ es identicamente cero, es ese caso, la transformada de Laplace se convierte en la transformada de Fourier. Algunas propiedades interesantes de la transformada de Laplace se presentan a continuación:\n",
    "\n",
    "## Linealidad de la Transformada de Laplace \n",
    "\n",
    "La transformada de Laplace es un operador lineal, de ahí que cobre una importancia particular en la ingeniería. El principio de superposición aplica a la transormada de Laplace y, por ende sustenta la porpiedad de linealidad del operador transformadad como se indica a continuación:\n",
    "\n",
    "```{admonition} Principio de linealidad de la transformada de Laplace:\n",
    "\n",
    "```{math}\n",
    ":label: lineal_laplace\n",
    "\n",
    "\n",
    "k_1 x_1(t)+k_2 x_2 (t)\\xrightarrow{\\mathscr{L}} k_1X_1(s)+k_2X_2(s)\n",
    "````\n",
    "\n",
    "Ejemplo: la transformada de Laplace de la función $x(t)=2.8cos(2t)+5.4e^{-3t}+3.5sen(5t)$\n",
    "\n",
    "\n",
    "$$\n",
    "\\begin{eqnarray}\n",
    "&X(s)=\\mathscr{L} \\left \\{ x(t) \\right\\}= 2.8\\mathscr{L} \\left \\{ cos(2t) \\right\\}+5.4\\mathscr{L} \\left \\{ e^{-3t} \\right\\}+3.5\\mathscr{L} \\left \\{ sen(5t) \\right\\}\\\\\n",
    "&X(s)=\\frac{2.8s}{s^2+4}+\\frac{5.4}{s+3}+\\frac{87.5}{s^2+25}\n",
    "\\end{eqnarray}\n",
    "$$\n",
    "\n",
    "## Propiedad de desplazamiento en el tiempo\n",
    "\n",
    "Un desplazamiento en el tiempo, aplicado a una función $x(t)$ en el dominio del tiempo, por medio de una constante arbitraria $\\tau$, corresponde al producto de la transformada de Laplace de $x(t)$ con el factor $e^{-\\tao s}$:\n",
    "\n",
    "\n",
    "```{admonition} Propiedad de desplazamiento en el tiempo de la transformada de Laplace:\n",
    "\n",
    "```{math}\n",
    ":label: desp_tiempo_laplace\n",
    "\n",
    "\\mathscr{L} \\left \\{ x(t-\\tau) \\right\\} \\xrightarrow{\\mathscr{L}} e^{-\\tau s} X(s)\n",
    "````\n",
    "\n",
    "Ejemplo: la transformada de Laplace de la función $x(t)=0.01cos(2(t-3))$\n",
    "\n",
    "$$\n",
    "\\mathscr{L} \\left \\{ 0.01cos(2(t-3)) \\right\\} = \\frac{se^{-3\\tau s}}{s^2+4} \n",
    "$$\n",
    "\n",
    "## Propiedad de desplazamiento en el dominio de $s$\n",
    "\n",
    "Dada una función $x(t)$, la transformada de Laplace del producto de tal función con el factor $s_0$ implica que la transformada de Laplace de $x(t)$, sea desplazada $s_0$ veces en el dominio complejo.\n",
    "\n",
    "```{admonition} Propiedad de desplazamiento en el dominio de $s$ de la transformada de Laplace:\n",
    "\n",
    "```{math}\n",
    ":label: desp_freq_laplace\n",
    "\n",
    "\\mathscr{L} \\left \\{ x(t)e^{s_0t} \\right\\} \\xrightarrow{\\mathscr{L}}  X(s-s_0)\n",
    "````\n",
    "Ejemplo: la trasfomdada de Laplace de la función $x(t)=e^{-0.5t}sen(6\\pi t)$\n",
    "\n",
    "$$\n",
    "\\mathscr{L} \\left \\{ e^{-0.5t}cos(6\\pi t) \\right\\} = \\frac{6\\pi(s+0.5)}{(s+0.5)^2+36\\pi^2} \n",
    "$$\n",
    "\n",
    "## Propiedad de escalamiento en los dominios de $s$ y de $t$\n",
    "\n",
    "Una operacion de escalamiento de una función $x(t)$, que porduce una función $g(t)=x\\left( \\frac{t}{a}\\right )$ tendrá como resultado una función escalada e el dominio de $s$, con escalamiento inverso:\n",
    "\n",
    "```{admonition} Propiedad de escalamento en el tiempo y la frecuencia de la transformada de Laplace:\n",
    "\n",
    "```{math}\n",
    ":label: esq_freq_laplace\n",
    "\n",
    "\\mathscr{L} \\left \\{ x(at) \\right\\} \\xrightarrow{\\mathscr{L}} \\frac{1}{|a|} X\\left ( \\frac{s}{a} \\right )\n",
    "````\n",
    "Ejemplo: la trasfomdada de Laplace de la función $x(t)=cos \\left ( 2\\pi\\frac{t}{3} \\right )$\n",
    "\n",
    "$$\n",
    "\\mathscr{L} \\left \\{ cos \\left ( 2\\pi\\frac{t}{3} \\right ) \\right \\} = 3\\frac{3s}{9s^2+4\\pi^2}\n",
    "$$\n",
    "\n",
    "## Diferenciación en el dominio del tiempo\n",
    "\n",
    "Dada una función $x(t)$, la transformada de Laplace de su derivada se expresa como:\n",
    "\n",
    "```{admonition} Propiedad de diferenciación en el dominio del tiempo:\n",
    "\n",
    "```{math}\n",
    ":label: diff_laplace\n",
    "\n",
    "\\mathscr{L} \\left \\{ \\frac{dx(t)}{dt} \\right\\} \\xrightarrow{\\mathscr{L}}  sX(s)\n",
    "````\n",
    "\n",
    "Por ejemplo para la transformada de la función $\\frac{d\\left (3cos(4\\pi t)\\right )}{dt}$ se tiene que:\n",
    "\n",
    "$$\n",
    "\\mathscr{L} \\left \\{ \\frac{d\\left (3cos(4\\pi t)\\right )}{dt} \\right \\} = s\\mathscr{L} \\left \\{ 3cos(4\\pi t)\\right \\}=\\frac{3s^2}{s^2+16\\pi^2}\n",
    "$$"
   ]
  }
 ],
 "metadata": {
  "jupytext": {
   "formats": "md:myst",
   "text_representation": {
    "extension": ".md",
    "format_name": "myst",
    "format_version": 0.13,
    "jupytext_version": "1.11.5",
    "language": "es"
   }
  },
  "kernelspec": {
   "display_name": "Octave",
   "language": "Octave",
   "name": "Octave"
  },
  "language_info": {
   "file_extension": ".m",
   "help_links": [
    {
     "text": "GNU Octave",
     "url": "https://www.gnu.org/software/octave/support.html"
    },
    {
     "text": "Octave Kernel",
     "url": "https://github.com/Calysto/octave_kernel"
    },
    {
     "text": "MetaKernel Magics",
     "url": "https://metakernel.readthedocs.io/en/latest/source/README.html"
    }
   ],
   "mimetype": "text/x-octave",
   "name": "octave",
   "version": "5.2.0"
  },
  "source_map": [
   14,
   22,
   55
  ]
 },
 "nbformat": 4,
 "nbformat_minor": 5
}
{
 "cells": [
  {
   "cell_type": "markdown",
   "id": "0b59eadc",
   "metadata": {},
   "source": [
    "# Análisis de señales y sistemas\n",
    "\n",
    "Este libro web fué elaborado como un complemento al curso de análisis de señales y sistemas. Este material es un medio axiliar para compartir teoría de análisis de señales y algunas prácticas se simulación.\n",
    "\n",
    "\n",
    "La interfaz gráfica o ventana principal del software se muestra en la {numref}`figura1`.\n",
    "```{figure} /images/figura1.jpg\n",
    ":height: 450px\n",
    ":name: figura1\n",
    "Pantalla principal de MATLAB\n",
    "```\n",
    "\n",
    "Las funciones y operaciones básicas, así como los cálculos con fórmulas complejas se llevan a cabo utilizando la ventana de comandos (ver {numref}`figura2`). Esta ventana de comandos recueerda a una calculadora científica, como es posible intuir, la sintaxis para realizar operaciones es muy similar a la que se utiliza en ese tipo de calculadoras. Para realizar una operación básica basta con expresarla con la sintaxis correcta, por ejemplo:"
   ]
  },
  {
   "cell_type": "code",
   "execution_count": 1,
   "id": "a31d082c",
   "metadata": {
    "tags": [
     "remove-stderr"
    ]
   },
   "outputs": [
    {
     "name": "stdout",
     "output_type": "stream",
     "text": [
      "ans =  8\n"
     ]
    }
   ],
   "source": [
    "2^3"
   ]
  },
  {
   "cell_type": "markdown",
   "id": "c234b823",
   "metadata": {},
   "source": [
    "Las sub-ventanas principales son las mostradas en las Figuras: {numref}`figura2`, {numref}`fig3`, {numref}`figura4` y {numref}`figura5`.\n",
    "\n",
    "\n",
    "```{figure} /images/figura2a.jpg\n",
    ":height: 150px\n",
    ":name: figura2\n",
    "Ventana de comandos (Command window)\n",
    "\n",
    "```\n",
    "```{figure} /images/figura2b.jpg\n",
    ":height: 150px\n",
    ":name: fig3\n",
    "Area del espacio de trabajo (Workspace)\n",
    "\n",
    "```\n",
    "\n",
    "```{figure} /images/figura3b.jpg\n",
    ":height: 130px\n",
    ":name: figura4\n",
    "Area de la carpeta activa (Current folder)\n",
    "\n",
    "```\n",
    "```{figure} /images/figura3c.jpg\n",
    ":height: 150px\n",
    ":name: figura5\n",
    "Area de inicio general de MATLAB (Home)\n",
    "\n",
    "```\n",
    "\n",
    "## Operaciones matemáticas comunes\n",
    "\n",
    "```{list-table} Operaciones matemáticas \n",
    ":header-rows: 1\n",
    ":name: Tabla 01\n",
    "* - Sintaxis\n",
    "  - Resultado\n",
    "* - `sqrt(x)`\n",
    "  -  calcula la raiz cuadrada de x\n",
    "* - `abs(x)`\n",
    "  - calcula el valor absoluto de x\n",
    "* - `nthroot(x)`\n",
    "  -  calcula la n-ésima raiz de x\n",
    "* - `sign(x)`\n",
    "  -  regresa el signo de x, -1 si x es negativo, 0 si x es igual a 0 y 1 si x es positivo\n",
    "* - `exp(x)`\n",
    "  - calcula la exponencial de x, $e^{x}$\n",
    "* - `log(x)`\n",
    "  - calcula el logaritmo natural de x\n",
    "* - `log10(x)`\n",
    "  - calcula el coseno inverso de x, devuelve un ángulo en radianes, x debe estar entre -1 y 1\n",
    "* - `round(x)`\n",
    "  - calcula el logaritmo base 10 de x  \n",
    "```\n",
    "\n",
    "\n",
    "\n",
    "```{list-table} Operaciones matemáticas con funciones trigonométricas\n",
    ":header-rows: 1\n",
    ":name: Tabla 02\n",
    "* - Sintaxis\n",
    "  - Resultado\n",
    "* - `sin(x)`\n",
    "  - calcula el seno de x, con x en radianes\n",
    "* - `cos(x)`\n",
    "  - calcula el coseno de x, con x en radianes\n",
    "* - `tan(x)`\n",
    "  - calcula la tangente de x, con x en radianes \n",
    "* - `asin(x)`\n",
    "  - calcula el seno inverso de x, devuelve un ángulo en radianes, x debe estar entre -1 y 1\n",
    "* - `acos(x)`\n",
    "  - calcula el coseno inverso de x, devuelve un ángulo en radianes, x debe estar entre -1 y 1\n",
    "```"
   ]
  }
 ],
 "metadata": {
  "jupytext": {
   "formats": "md:myst",
   "text_representation": {
    "extension": ".md",
    "format_name": "myst",
    "format_version": 0.13,
    "jupytext_version": "1.11.5",
    "language": "es"
   }
  },
  "kernelspec": {
   "display_name": "Octave",
   "language": "Octave",
   "name": "Octave"
  },
  "language_info": {
   "file_extension": ".m",
   "help_links": [
    {
     "text": "GNU Octave",
     "url": "https://www.gnu.org/software/octave/support.html"
    },
    {
     "text": "Octave Kernel",
     "url": "https://github.com/Calysto/octave_kernel"
    },
    {
     "text": "MetaKernel Magics",
     "url": "https://metakernel.readthedocs.io/en/latest/source/README.html"
    }
   ],
   "mimetype": "text/x-octave",
   "name": "octave",
   "version": "5.2.0"
  },
  "source_map": [
   14,
   30,
   33
  ]
 },
 "nbformat": 4,
 "nbformat_minor": 5
}
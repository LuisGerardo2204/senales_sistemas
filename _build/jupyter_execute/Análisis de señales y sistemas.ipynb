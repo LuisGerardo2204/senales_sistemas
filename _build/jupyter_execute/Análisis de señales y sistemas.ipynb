{
 "cells": [
  {
   "cell_type": "markdown",
   "id": "13ffc2ff",
   "metadata": {},
   "source": [
    "# Introducción\n",
    "\n",
    "Este libro web fué elaborado como un complemento al curso de análisis de señales y sistemas. Este material es un medio auxiliar para compartir teoría de análisis de señales y algunas prácticas se simulación."
   ]
  }
 ],
 "metadata": {
  "jupytext": {
   "formats": "md:myst",
   "text_representation": {
    "extension": ".md",
    "format_name": "myst",
    "format_version": 0.13,
    "jupytext_version": "1.11.5",
    "language": "es"
   }
  },
  "kernelspec": {
   "display_name": "Octave",
   "language": "Octave",
   "name": "Octave"
  },
  "source_map": [
   14
  ]
 },
 "nbformat": 4,
 "nbformat_minor": 5
}
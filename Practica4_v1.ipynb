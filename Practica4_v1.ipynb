{
 "cells": [
  {
   "cell_type": "markdown",
   "id": "b068e0cc-3bef-438b-9b18-30ae2d29cfae",
   "metadata": {},
   "source": [
    "# Práctica 4: Estructuras de control de flujo del programa \n",
    "\n",
    "La instrucción `find()` es muy útil para seleccionar datos que complen con ciertas características en un conjunto más grande. Las instrucciones de comparación `<=`, `<=`, `==`, etc. son suficientes para determinar funciones definidas a pedazos y para construir arreglos con datos que cumplen con ciertas características a partir de un arreglo más general, sin embargo, a menudo es necesario hacer uso de estructuras más complejas para controlar el flujo de ejecución de un programa. Una de estas estructuras es la conocida como `if`. \n",
    "\n",
    "## Estructura if\n",
    "\n",
    "La estrutura `if` tiene la forma:\n",
    "\n",
    "**if**(expresión de comparación)\n",
    "\n",
    "**end**                                                                                            \n",
    "\n",
    "Si la expresión entre parénteis **(expresión de comparación)** es verdadera, entonces se ejecuta el conjunto de instrucciones que se situa entre los enunciados **if** y **end**. Para dar legilibilidad al código se usa una práctica conocida como indentado, es decir, usar una sangría para que los enunciados de instrucciones queden perfectamente identificados del resto del flujo de programa. En MATLAB, es indiferente el indentado o sangría en el código, por lo tanto las instrucciones se ejecutan sin problema, pero su legibilidad mejora constantemente.\n",
    "\n",
    "Un ejemplo de aplicación de la estructura de control de flujo de programa `if` es la siguiente:\n"
   ]
  },
  {
   "cell_type": "code",
   "execution_count": 1,
   "id": "7944555b-8594-4c57-aed7-014a3b707af6",
   "metadata": {},
   "outputs": [
    {
     "name": "stdout",
     "output_type": "stream",
     "text": [
      "a es mayor que 3\n"
     ]
    }
   ],
   "source": [
    "a=4;\n",
    "\n",
    "if(a>3)\n",
    "  disp(\"a es mayor que 3\")\n",
    "end \n",
    "\n",
    "if(a<0)\n",
    "  disp(\"a es negativo\")\n",
    "end \n",
    "\n"
   ]
  },
  {
   "cell_type": "markdown",
   "id": "c79ca9a2-217d-45f2-8cfe-00e776dabe25",
   "metadata": {},
   "source": [
    "## Estructura if/else\n",
    "\n",
    "En general, las estructuras `if` funcionan mejor con escalares o valores lógicos. Un complemento a la estructura `if`  es la estructura **if/else**, un ejemplo de aplicación de esta estructura es la siguiente:\n",
    "\n",
    "**if**(a>0) \n",
    "\n",
    "    \n",
    "**else**\n",
    "\n",
    "    \n",
    "**end**     "
   ]
  },
  {
   "cell_type": "markdown",
   "id": "5d1279d3-d778-42e5-a92b-86ffc61cb2e3",
   "metadata": {},
   "source": [
    "Como ejemplo, probaremos la estrucura propuesta para dos casos, uno para `a=2` "
   ]
  },
  {
   "cell_type": "code",
   "execution_count": 2,
   "id": "841d0c2f-f082-4528-85e8-0c3e646be6b5",
   "metadata": {},
   "outputs": [
    {
     "data": {
      "text/html": [
       "<html><body><pre>raiz_cuadrada = 1.4142</pre></body></html>"
      ],
      "text/plain": [
       "raiz_cuadrada = 1.4142"
      ]
     },
     "execution_count": 2,
     "metadata": {},
     "output_type": "execute_result"
    }
   ],
   "source": [
    "a=2;\n",
    "\n",
    "if(a>0)\n",
    "   raiz_cuadrada=sqrt(a)\n",
    "else\n",
    "   disp(\"error, la raiz cuadrada de un número negativo no es un número real\")\n",
    "end\n"
   ]
  },
  {
   "cell_type": "markdown",
   "id": "efe237f5-9672-41d3-8ffd-35ea3ccdf4ef",
   "metadata": {},
   "source": [
    "y otro caso para `a=-3`:"
   ]
  },
  {
   "cell_type": "code",
   "execution_count": 3,
   "id": "2a8aa521-33a9-4328-acd4-1498af139d32",
   "metadata": {},
   "outputs": [
    {
     "name": "stdout",
     "output_type": "stream",
     "text": [
      "error, la raiz cuadrada de un número negativo no es un número real\n"
     ]
    }
   ],
   "source": [
    "a=-3;\n",
    "\n",
    "if(a>0)\n",
    "   raiz_cuadrada=sqrt(a)\n",
    "else\n",
    "   disp(\"error, la raiz cuadrada de un número negativo no es un número real\")\n",
    "end"
   ]
  },
  {
   "cell_type": "markdown",
   "id": "5a9158c7-abda-4de2-8e20-a65828920168",
   "metadata": {},
   "source": [
    "Cuando se trata con arreglos la isntrucción `if` se ejecutará para cada elemento del arreglo, por ejemplo, para un arreglo `numero=[-4:1:4]` se prueba la estructura anterior:"
   ]
  },
  {
   "cell_type": "code",
   "execution_count": 4,
   "id": "661422bf-0a13-4469-9fcd-bedcda02a87c",
   "metadata": {},
   "outputs": [
    {
     "name": "stdout",
     "output_type": "stream",
     "text": [
      "error, la raiz cuadrada de un número negativo no es un número real\n"
     ]
    }
   ],
   "source": [
    "numero=[-4:1:4];\n",
    "\n",
    "if(numero>0)\n",
    "   raiz_cuadrada=sqrt(a)\n",
    "else\n",
    "   disp(\"error, la raiz cuadrada de un número negativo no es un número real\")\n",
    "end"
   ]
  },
  {
   "cell_type": "markdown",
   "id": "10cfed68-52c8-453d-91d2-ed9dc1071993",
   "metadata": {},
   "source": [
    "Como se puede observar, la instrucción solo se ejecuta si todos y cada uno de los elementos del arreglo cumplen con la condición de control dentro del paréntesis, una prueba más ilustrará esta situación:"
   ]
  },
  {
   "cell_type": "code",
   "execution_count": 5,
   "id": "688c3c27-edc3-44b6-9fc2-5bcf738ae71d",
   "metadata": {},
   "outputs": [
    {
     "data": {
      "text/html": [
       "<html><body><pre>raiz_cuadrada = 1x4 double\n",
       "    1.0000    1.4142    1.7321    2.0000\n",
       "</pre></body></html>"
      ],
      "text/plain": [
       "raiz_cuadrada = 1x4 double\n",
       "    1.0000    1.4142    1.7321    2.0000\n"
      ]
     },
     "execution_count": 5,
     "metadata": {},
     "output_type": "execute_result"
    }
   ],
   "source": [
    "numero=[1:1:4];\n",
    "\n",
    "if(numero>0)\n",
    "   raiz_cuadrada=sqrt(numero)\n",
    "else\n",
    "   disp(\"error, la raiz cuadrada de un número negativo no es un número real\")\n",
    "end"
   ]
  },
  {
   "cell_type": "markdown",
   "id": "c4bc2091-b649-4f95-9b5a-549fe079c385",
   "metadata": {},
   "source": [
    "Si uno solo se los valores del arreglo fuera negativo, la estructura del programa lleva el control del flujo de ejecución a las instrucciones ubicadas después de la palabra else:"
   ]
  },
  {
   "cell_type": "code",
   "execution_count": 6,
   "id": "f29b4027-752f-41bc-a830-d906308ba96b",
   "metadata": {},
   "outputs": [
    {
     "name": "stdout",
     "output_type": "stream",
     "text": [
      "error, la raiz cuadrada de un número negativo no es un número real\n"
     ]
    }
   ],
   "source": [
    "numero=[1 2 -3 4];\n",
    "\n",
    "if(numero>0)\n",
    "   raiz_cuadrada=sqrt(numero)\n",
    "else\n",
    "   disp(\"error, la raiz cuadrada de un número negativo no es un número real\")\n",
    "end"
   ]
  },
  {
   "cell_type": "markdown",
   "id": "bb252805-bb7f-471b-90cd-dfe5cf38ae09",
   "metadata": {},
   "source": [
    "## Estructura elseif\n",
    "\n",
    "Una estructura `elseif` permite comprobar varios criterios de forma anidada, manteniendo una importante pulcritud y órden en el código, un ejemplo de lo anterior se ilustra como sigue:\n",
    "\n",
    "**if**(a>0)\n",
    "\n",
    "**elseif**(a<3)\n",
    "\n",
    "**elseif**(a<5)\n",
    "\n",
    "**else** \n",
    "    \n",
    "**end**     "
   ]
  },
  {
   "cell_type": "markdown",
   "id": "4e07471b-da68-4ce0-995e-b184f0c7335e",
   "metadata": {},
   "source": [
    "De nuevo, cuado se trata de arreglos, cada uno de los elementos del arreglo deben cumplir con los criterios para que se ejecute el conjunto de instrucciones que le corresponde. A continuacón se presentan los ejemplos correspondientes."
   ]
  },
  {
   "cell_type": "code",
   "execution_count": 7,
   "id": "36dd4a7a-3718-418a-b126-9c6cf2400e64",
   "metadata": {},
   "outputs": [
    {
     "name": "stdout",
     "output_type": "stream",
     "text": [
      "a está en el intervalo 3<a<5\n"
     ]
    }
   ],
   "source": [
    "a=3;\n",
    "\n",
    "if((a>0)&(a<3))\n",
    "   disp(\"a es un número positivo\")\n",
    "elseif((a>=3)&(a<5))\n",
    "   disp(\"a está en el intervalo 3<a<5\")\n",
    "elseif((a>=5)&(a<7))\n",
    "   disp(\"a está en el intervalo 5<a<7\")\n",
    "else\n",
    "  disp(\"a está fuera del intervalo 0<a<7\")\n",
    "end"
   ]
  },
  {
   "cell_type": "markdown",
   "id": "5c0c432e-4a67-48c4-8a11-d24ab7fef8d0",
   "metadata": {},
   "source": [
    "## Estructura Switch/case\n",
    "\n",
    "La estructura de control de flujo de programa `switch/case` permite tomar decisiones en base a criterios, de forma parecida a lo que se realiza usado estructuras `else/if` pero de forma más ordenada y directa. Es posible establecer como criterios de desición a escalares o cadenas de caracteres. La estructura `Switch/case` tiene la estructura:\n",
    "\n",
    "**switch**(variable)\n",
    "\n",
    "**case** opción 1\n",
    "    \n",
    "**case** opción 2\n",
    "        \n",
    "**case** opción N\n",
    "        \n",
    "**otherwise**\n",
    "\n",
    "**end**    \n",
    "\n",
    "Por ejemplo, para una cadena de caracteres o string, sucede lo siguiente:         "
   ]
  },
  {
   "cell_type": "code",
   "execution_count": 8,
   "id": "84775e17-7aed-49b2-bfcc-8d058facfd24",
   "metadata": {},
   "outputs": [
    {
     "data": {
      "text/html": [
       "<html><body><pre>animal = \"águila\"</pre></body></html>"
      ],
      "text/plain": [
       "animal = \"águila\""
      ]
     },
     "execution_count": 8,
     "metadata": {},
     "output_type": "execute_result"
    },
    {
     "name": "stdout",
     "output_type": "stream",
     "text": [
      "Es un dinosaurio aviano\n"
     ]
    }
   ],
   "source": [
    "animal=\"águila\"\n",
    "\n",
    "switch(animal)\n",
    "   case \"cocodrilo\"  \n",
    "       disp(\"Es un dinosaurio no aviano\")   \n",
    "   case \"águila\"  \n",
    "         disp(\"Es un dinosaurio aviano\")\n",
    "   case \"jaguar\"\n",
    "        disp(\"Es un mamífero\")    \n",
    "   otherwise\n",
    "        disp(\"Ninguno de los anteriores\") \n",
    "end"
   ]
  },
  {
   "cell_type": "markdown",
   "id": "c5a06cd3-d25b-4869-b07a-e33f0ca419fb",
   "metadata": {},
   "source": [
    "## Estructuras tipo bucle\n",
    "\n",
    "Las estructuras bucle permiten realizar operaciones repetitivas, o dicho de otra manera, permiten realizar el mismo\n",
    "conjunto de instrucciones muchas veces sin la necesidad de escribirlo muchas veces. Las dos estructuras de repetición básicas en MATLAB son el ciclo `For` y la sentencia `While`. El ciclo `For` tiene la siguiente etructura:\n",
    "\n",
    "**For**(indice) \n",
    "\n",
    "**end**"
   ]
  },
  {
   "cell_type": "markdown",
   "id": "2db1ae11-f747-4ac9-995f-7bd9c0ed2ac9",
   "metadata": {},
   "source": [
    "Si el índice es un arreglo, las instrucciones se ejecutan para cada elemento del arreglo, por ejemplo:"
   ]
  },
  {
   "cell_type": "code",
   "execution_count": 9,
   "id": "1e1ecb89-49b3-49d1-a610-5b93d68e1055",
   "metadata": {},
   "outputs": [
    {
     "data": {
      "text/html": [
       "<html><body><pre>k = 2</pre></body></html>"
      ],
      "text/plain": [
       "k = 2"
      ]
     },
     "execution_count": 9,
     "metadata": {},
     "output_type": "execute_result"
    },
    {
     "data": {
      "text/html": [
       "<html><body><pre>k = 4</pre></body></html>"
      ],
      "text/plain": [
       "k = 4"
      ]
     },
     "execution_count": 9,
     "metadata": {},
     "output_type": "execute_result"
    },
    {
     "data": {
      "text/html": [
       "<html><body><pre>k = 5</pre></body></html>"
      ],
      "text/plain": [
       "k = 5"
      ]
     },
     "execution_count": 9,
     "metadata": {},
     "output_type": "execute_result"
    }
   ],
   "source": [
    "for k=[2 4 5]\n",
    "    k=k\n",
    "end"
   ]
  },
  {
   "cell_type": "markdown",
   "id": "8784eb36-52ac-485e-8559-375a962376d9",
   "metadata": {},
   "source": [
    "Usualmente, el ciclo `For` se define con los parámetros, valor inicial, valor final e incremento, por ejemplo, para realizar la suma de los primeros 100 números, se puede usar un ciclo for:"
   ]
  },
  {
   "cell_type": "code",
   "execution_count": 10,
   "id": "a191f64b-538a-4ff0-a658-18f89b7f7f5b",
   "metadata": {},
   "outputs": [
    {
     "name": "stdout",
     "output_type": "stream",
     "text": [
      "La suma de los primeros 100 números enteros es:\n"
     ]
    },
    {
     "data": {
      "text/html": [
       "<html><body><pre>suma = 5050</pre></body></html>"
      ],
      "text/plain": [
       "suma = 5050"
      ]
     },
     "execution_count": 10,
     "metadata": {},
     "output_type": "execute_result"
    }
   ],
   "source": [
    "suma=0;\n",
    "for k=1:100\n",
    "    suma=suma+k;\n",
    "end\n",
    "disp(\"La suma de los primeros 100 números enteros es:\")\n",
    "suma"
   ]
  },
  {
   "cell_type": "markdown",
   "id": "cec51f1e-57a9-42f7-b919-1be283992ae2",
   "metadata": {},
   "source": [
    "Se puede comprobar este resultado si se usa la fórmula descubierta por Gauss:\n",
    "\n",
    "$$\n",
    "\\begin{equation}\n",
    "   \\sum^{n}_{k=1}k=\\frac{n(n+1)}{2}\n",
    " \\end{equation}\n",
    "$$"
   ]
  },
  {
   "cell_type": "code",
   "execution_count": 11,
   "id": "08f22acb-93a4-43a5-8232-0d38d4a431cb",
   "metadata": {},
   "outputs": [
    {
     "data": {
      "text/html": [
       "<html><body><pre>suma = 5050</pre></body></html>"
      ],
      "text/plain": [
       "suma = 5050"
      ]
     },
     "execution_count": 11,
     "metadata": {},
     "output_type": "execute_result"
    }
   ],
   "source": [
    "suma=100*(100+1)/2"
   ]
  },
  {
   "cell_type": "markdown",
   "id": "1c2d1e14-346c-4370-ba38-4803c8c8dd3c",
   "metadata": {},
   "source": [
    "Otro ejemplo clásico es el cálculo del valor promedio de un conjunto de datos. El promedio de un conjunto de $n$ datos se obtiene mediante la expresión:\n",
    "\n",
    "$$\n",
    "\\begin{equation}\n",
    "   promedio=\\frac{1}{n}\\sum^{n}_{k=1}d_k\n",
    " \\end{equation}\n",
    "$$\n",
    "\n",
    "donde $n$ es el número total de los datos y $d_k$ es cada uno de los datos individuales. Por ejemplo, para calcular la temperatura promedio de un conjunto de mediciones de 10m días se usa el siguiente conjunto de líneas de código:\n"
   ]
  },
  {
   "cell_type": "code",
   "execution_count": 12,
   "id": "adde3279-3beb-4ee1-8df8-13aa3eb41abb",
   "metadata": {},
   "outputs": [
    {
     "data": {
      "text/html": [
       "<html><body><pre>n = 10</pre></body></html>"
      ],
      "text/plain": [
       "n = 10"
      ]
     },
     "execution_count": 12,
     "metadata": {},
     "output_type": "execute_result"
    },
    {
     "data": {
      "text/html": [
       "<html><body><pre>promedio = 24.2000</pre></body></html>"
      ],
      "text/plain": [
       "promedio = 24.2000"
      ]
     },
     "execution_count": 12,
     "metadata": {},
     "output_type": "execute_result"
    }
   ],
   "source": [
    "T=[25 22 23 26 30 31 24 22 20 19];\n",
    "n=length(T)\n",
    "suma=0;\n",
    "\n",
    "for k=1:n\n",
    "   suma=suma+T(k);\n",
    "end\n",
    "\n",
    "promedio=suma/n"
   ]
  },
  {
   "cell_type": "markdown",
   "id": "ce33f7b7-1d72-4fb9-b982-9aa4f538af49",
   "metadata": {},
   "source": [
    "La instrucción `length()` entrega como resultado el tamaño total de un arreglo. Una instrucción nativa de MATLAB para el cálculo del promedio de un conjunto de datos es el comando `mean()`. Para encontrar el promedio de las temperaturas anteriores se usa de la siguiente manera:"
   ]
  },
  {
   "cell_type": "code",
   "execution_count": 13,
   "id": "31a7b579-c5eb-417f-aa01-cf125e787ebc",
   "metadata": {},
   "outputs": [
    {
     "data": {
      "text/html": [
       "<html><body><pre>promedio = 24.2000</pre></body></html>"
      ],
      "text/plain": [
       "promedio = 24.2000"
      ]
     },
     "execution_count": 13,
     "metadata": {},
     "output_type": "execute_result"
    }
   ],
   "source": [
    "T=[25 22 23 26 30 31 24 22 20 19];\n",
    "promedio=mean(T)"
   ]
  },
  {
   "cell_type": "markdown",
   "id": "ceb56f1c-2cba-46cc-8787-c2a461124439",
   "metadata": {},
   "source": [
    "Un ciclo `while` son similares a los bucles `for`. La diferencia importante es la forma en que se determina  cuántas veces se repite el bucle. Los bucles `while` se ejecutan hasta que se satisface algún criterio. La estructura para un ciclo `while` es la siguiente:\n",
    "\n",
    "**while**(condición)\n",
    "\n",
    "**end**\n",
    "\n",
    "Un ejemplo básico es el siguiente:"
   ]
  },
  {
   "cell_type": "code",
   "execution_count": 14,
   "id": "1f67b7f1-36e2-4e21-83df-14d6b9741482",
   "metadata": {},
   "outputs": [
    {
     "data": {
      "text/html": [
       "<html><body><pre>i = 1</pre></body></html>"
      ],
      "text/plain": [
       "i = 1"
      ]
     },
     "execution_count": 14,
     "metadata": {},
     "output_type": "execute_result"
    },
    {
     "data": {
      "text/html": [
       "<html><body><pre>i = 2</pre></body></html>"
      ],
      "text/plain": [
       "i = 2"
      ]
     },
     "execution_count": 14,
     "metadata": {},
     "output_type": "execute_result"
    },
    {
     "data": {
      "text/html": [
       "<html><body><pre>i = 3</pre></body></html>"
      ],
      "text/plain": [
       "i = 3"
      ]
     },
     "execution_count": 14,
     "metadata": {},
     "output_type": "execute_result"
    },
    {
     "data": {
      "text/html": [
       "<html><body><pre>i = 4</pre></body></html>"
      ],
      "text/plain": [
       "i = 4"
      ]
     },
     "execution_count": 14,
     "metadata": {},
     "output_type": "execute_result"
    },
    {
     "data": {
      "text/html": [
       "<html><body><pre>i = 5</pre></body></html>"
      ],
      "text/plain": [
       "i = 5"
      ]
     },
     "execution_count": 14,
     "metadata": {},
     "output_type": "execute_result"
    }
   ],
   "source": [
    "i=0;\n",
    "\n",
    "while(i<5)\n",
    "   i=i+1\n",
    "end\n"
   ]
  },
  {
   "cell_type": "markdown",
   "id": "fa361275-cce9-48b9-9424-dea9dd7d4a8a",
   "metadata": {},
   "source": [
    "Por ejemplo, se puede usar un ciclo while para calcular el factorial de un número. El factorial de un número se calcula como:\n",
    "\n",
    "$$\n",
    "a!=a(a-1)!\n",
    "$$\n",
    "\n",
    "Recordando que $0!=1$, entonces, para calcular el factorial de 10, con un ciclo while se usan las instrucciones:"
   ]
  },
  {
   "cell_type": "code",
   "execution_count": 15,
   "id": "8da6d91f-8801-4039-8db1-a163381ffb64",
   "metadata": {},
   "outputs": [
    {
     "name": "stdout",
     "output_type": "stream",
     "text": [
      "10!=\n"
     ]
    },
    {
     "data": {
      "text/html": [
       "<html><body><pre>fac = 3628800</pre></body></html>"
      ],
      "text/plain": [
       "fac = 3628800"
      ]
     },
     "execution_count": 15,
     "metadata": {},
     "output_type": "execute_result"
    }
   ],
   "source": [
    "a=10;\n",
    "\n",
    "k=1;\n",
    "fac=1;\n",
    "\n",
    "while(k<a)\n",
    "   k=k+1;\n",
    "   fac=fac*k;\n",
    "end\n",
    "\n",
    "disp(\"10!=\")\n",
    "fac"
   ]
  },
  {
   "cell_type": "markdown",
   "id": "c6afb8e0-65c6-4614-9b25-655249134a78",
   "metadata": {},
   "source": [
    "Para comprobar la operación realizada usando el ciclo `while` se usa la función nativa `factorial()` de MATLAB"
   ]
  },
  {
   "cell_type": "code",
   "execution_count": 16,
   "id": "5ceef92f-8d44-489a-887c-44284ab12eb1",
   "metadata": {},
   "outputs": [
    {
     "data": {
      "text/html": [
       "<html><body><pre>ans = 3628800</pre></body></html>"
      ],
      "text/plain": [
       "ans = 3628800"
      ]
     },
     "execution_count": 16,
     "metadata": {},
     "output_type": "execute_result"
    }
   ],
   "source": [
    "factorial(10)"
   ]
  },
  {
   "cell_type": "markdown",
   "id": "93b31cb2-bf7d-48ce-951c-2c6d7f905708",
   "metadata": {},
   "source": [
    "## Cálculo de sumatorias\n",
    "\n",
    "Un ejemplo del uso de los bucles es, por excelencia, el cálculo de sumatorias simples y dobles, por ejemplo \n",
    "\n",
    "$$\n",
    "\t\\begin{equation}\n",
    "\t\t\t\\sum^{5}_{k=1}\\left(k-2\\right)\\left(k^2-4\\right)\n",
    "\t\t\t\\end {equation}\n",
    "$$\n",
    "\n",
    "\n",
    "La expansión de la serie es la siguiente:\n",
    "\n",
    "$$\n",
    "\t\\begin{eqnarray}\n",
    "\t\t\t\\sum^{5}_{k=1}&=\\left(1-2\\right)\\left(1^2-4\\right)+\\left(2-2\\right)\\left(2^2-4\\right)+\\left(3-2\\right)\\left(3^2-4\\right)+\\left(4-2\\right)\\left(4^2-4\\right)+\\left(5-2\\right)\\left(5^2-4\\right)\\\\\n",
    "&=3+0+5+24+63=95\n",
    "\t\t\t\\end {eqnarray}\n",
    "$$\n",
    "\n",
    "Es claro que la expansión de la serie resulta muy extensa para índices superiores a 5, en MATLAB, la instrucción de bucle `for` permite el cálculo de la sumatoria anterior de manera muy compacta:"
   ]
  },
  {
   "cell_type": "code",
   "execution_count": 17,
   "id": "bdd4e036-fe2a-4064-849f-cceb9fab0d89",
   "metadata": {},
   "outputs": [
    {
     "data": {
      "text/html": [
       "<html><body><pre>sumatoria = 95</pre></body></html>"
      ],
      "text/plain": [
       "sumatoria = 95"
      ]
     },
     "execution_count": 17,
     "metadata": {},
     "output_type": "execute_result"
    }
   ],
   "source": [
    "sumatoria=0;% Se inicializa la variable sumatoria que almacenará el resultado\n",
    "for k=1:5\n",
    "    sumatoria=sumatoria+(k-2)*(k^2-4);% Se calcula la sumatoria, el índice que aumenta es k\n",
    "end\n",
    "sumatoria% se despliega el resultado de la sumatoria final"
   ]
  },
  {
   "cell_type": "markdown",
   "id": "aa5ba66a-51fd-42cb-8f2c-6c5f0f48e0b2",
   "metadata": {},
   "source": [
    "Cuando se tienen sumatorias dobles, el calculo de la sumatoria se interpreta como dos intrucciones de bucle anidadas, es decir una dentro de otra. Por ejemplo, considere la sumatoria doble:\n",
    "\n",
    "$$\n",
    "\t\\begin{equation}\n",
    "\t\t\t\\sum^{3}_{i=1}\\sum^{2}_{j=1}\\frac{(2i-3)}{(3+2j)}\n",
    "\t\t\t\\end {equation}\n",
    "$$\n",
    "\n",
    "Al desarrollar la sumatoria y calcular cada término por separado\n",
    "\n",
    "$$\n",
    "\t\\begin{equation}\n",
    "\t\t\t\\sum^{3}_{i=1}\\sum^{2}_{j=1}=(2(1)-3)\\sum^{2}_{j=1}\\frac{1}{(3+2j)}+(2(2)-3)\\sum^{2}_{j=1}\\frac{1}{(3+2j)}+(2(3)-3)\\sum^{2}_{j=1}\\frac{1}{(3+2j)}\n",
    "\t\t\t\\end {equation}\n",
    "$$\n",
    "\n",
    "$$\n",
    "\t\\begin{equation}\n",
    "\t\t\t\\sum^{3}_{i=1}\\sum^{2}_{j=1}\\frac{(2i-3)}{(3+2j)}=(-1)\\left[\\frac{1}{(3+2(1))}+\\frac{1}{(3+2(2))}\\right]+(1)\\left[\\frac{1}{(3+2(1))}+\\frac{1}{(3+2(2))}\\right]+(3)\\left[\\frac{1}{(3+2(1))}+\\frac{1}{(3+2(2))}\\right]\n",
    "\t\t\t\\end {equation}\n",
    "$$\n",
    "\n",
    "$$\n",
    "\t\\begin{equation}\n",
    "\t\t\t\\sum^{3}_{i=1}\\sum^{2}_{j=1}\\frac{(2i-3)}{(3+2j)}=\\left(3\\right)\\left[\\frac{1}{(3+2(1))}+\\frac{1}{(3+2(2))}\\right]=\\left(3\\right)\\left[\\frac{1}{5}+\\frac{1}{7}\\right]=3\\left[\\frac{12}{35}\\right]=1.0286\n",
    "\t\t\t\\end {equation}\n",
    "$$"
   ]
  },
  {
   "cell_type": "code",
   "execution_count": 18,
   "id": "bcabed21-ce51-4732-807e-e0b206fa1333",
   "metadata": {},
   "outputs": [
    {
     "data": {
      "text/html": [
       "<html><body><pre>suma = 1.0286</pre></body></html>"
      ],
      "text/plain": [
       "suma = 1.0286"
      ]
     },
     "execution_count": 18,
     "metadata": {},
     "output_type": "execute_result"
    }
   ],
   "source": [
    "suma=0;\n",
    "for i=1:3\n",
    "  for j=1:2\n",
    "      (2*i-3)/(3+2*j);\n",
    "      suma=suma+(2*i-3)/(3+2*j);\n",
    "   end\n",
    "end\n",
    "suma"
   ]
  },
  {
   "cell_type": "markdown",
   "id": "f46732c4-4f24-45c3-94b6-af989ed756b9",
   "metadata": {},
   "source": [
    "## La serie trigonométrica de Fourier\n",
    "\n",
    "Sea $x(t)$ una señal periódica, es decir que se puede expresar como $x(t)=x(t+T)$, donde $T$ es el periódo de dicha señal en segundos. Según lo descubierto por Joseph Fourier, una señal periódica se puede representar como la sumatoria de una infinidad de términos seno y coseno, usando la siguiente expresión:\n",
    "\n",
    "\n",
    "```{math}\n",
    ":label: serie_fourier\n",
    "\\begin{equation}\n",
    "   x(t)=a_0+\\sum^{\\infty}_{k=1}\\left[a_kcos(k\\omega_0t)+b_ksen(k\\omega_0t)\\right],~~-\\infty<t<\\infty\n",
    " \\end{equation}\n",
    "```\n",
    "donde $\\omega_0=\\frac{2\\pi}{T}$ y los términos $a_0$, $a_k$ y $b_k$ se calculan como\n",
    "\n",
    "```{math}\n",
    ":label: a0\n",
    "\\begin{equation}\n",
    "a_0=\\frac{1}{T}\\int^{T}_{0}x(t)dt\n",
    "\\end{equation}\n",
    "```\n",
    "\n",
    "```{math}\n",
    ":label: ak\n",
    "\\begin{equation}\n",
    "a_k=\\frac{2}{T}\\int^{T}_{0}x(t)cos(k\\omega_0t)dt\n",
    "\\end{equation}\n",
    "```\n",
    "\n",
    "```{math}\n",
    ":label: bk\n",
    "\\begin{equation}\n",
    "b_k=\\frac{2}{T}\\int^{T}_{0}x(t)sen(k\\omega_0t)dt\n",
    "\\end{equation}\n",
    "```\n",
    "\n",
    "Es posible obtener la aproximación de una función del tiempo en términos de una serie trigonmétrica de Fourier en MATLAB usando instrucciones de ciclo `for`. Por ejemplo, considere la señal tipo diente de sierra, definida por la expresión:\n",
    "\n",
    "```{math}\n",
    ":label: func_sierra\n",
    "\\begin{equation}\n",
    "         g(t)= \\left\\{ \\begin{array}{lcc} 150(t+0.02) & si & -0.02 \\leq t \\leq -0.01 \\\\ \\\\ 150t & si & -0.01 \\leq t \\leq 0.01 \\\\ \\\\ 150(t-0.02) & si & 0.01 < t \\leq 0.03 \\end{array} \\right.\n",
    "\t\t \\end{equation}\n",
    "```\n",
    "\n",
    "se puede obtener su gráfica en MATLAB mediante las líneas de código siguientes:"
   ]
  },
  {
   "cell_type": "code",
   "execution_count": 19,
   "id": "adc37011-08bf-456e-8ef8-e2eae63fa683",
   "metadata": {},
   "outputs": [
    {
     "data": {
      "image/png": "[encoded data removed]"
     },
     "execution_count": 19,
     "metadata": {},
     "output_type": "execute_result"
    }
   ],
   "source": [
    "t=[-0.03:0.0001:0.03];\n",
    "g=(150*(t+0.02)).*((t>=-0.03)&(t<-0.01))+(150*t).*((t>-0.01)&(t<=0.01))+(150*(t-0.02)).*((t>0.01)&(t<=0.03));\n",
    "\n",
    "plot(t,g);\n",
    "xlabel(\"t\");\n",
    "ylabel(\"g(t)\")\n",
    "axis([-0.03 0.03 -1.8 1.8]) %La istrucción axis ajusta los ejes de la gráfica\n",
    "grid;"
   ]
  },
  {
   "cell_type": "markdown",
   "id": "e71431fe-4539-4928-8fa8-f01156402411",
   "metadata": {},
   "source": [
    "\n",
    "Los coeficientes $a_0$, $a_k$ y $b_k$ para la serie trigonométrica de Fourier de la señal diente de sierra, definida por la ecuacion {eq}`func_sierra` se calculan usando las ecuaciones {eq}`a0`, {eq}`ak` y {eq}`bk`:\n",
    "\n",
    "```{math}\n",
    "\\begin{equation}\\nonumber\n",
    "a_0=\\frac{1}{T}\\int^{T}_{0}x(t)dt=\\frac{1}{T}\\int^{\\frac{T}{2}}_{-\\frac{T}{2}}x(t)dt=\\frac{1}{0.02}\\int^{-0.01}_{0.01}150tdt=7500\\left[{\\frac{t^2}{2}}_{t=-0.01}^{t=0.01}\\right]=0\n",
    "\\label{a0sierra}\n",
    "\\end{equation}\n",
    "```\n",
    "\n",
    "```{math}\n",
    "\\begin{equation}\\nonumber\n",
    "a_k=\\frac{1}{T}\\int^{T}_{0}x(t)cos(k\\omega_0t)dt=\\frac{2}{0.02}\\int^{0.01}_{-0.01}150tcos(k\\omega_0t)dt\n",
    "\\end{equation}\n",
    "```\n",
    "\n",
    "```{math}\n",
    "\\begin{equation}\\nonumber\n",
    "a_k=15000\\left[{\\frac{tsen(100k\\pi t)}{100k\\pi}}_{t=-0.01}^{t=0.01}-\\int^{0.01}_{-0.01}\\frac{sen(100k\\pi t)}{100k\\pi}dt\\right]\n",
    "\\end{equation}\n",
    "``` \n",
    "dado que se cumple que $sen(-x)=-sen(x)$ y $cos(-x)=cos(x)$:\n",
    "\n",
    "```{math}\n",
    "\\begin{equation}\\nonumber\n",
    "a_k=15000\\left[\\frac{cos(100k\\pi(0.01))}{\\left(100k\\pi\\right)^2}-\\frac{cos(100k\\pi(-0.01))}{\\left(100k\\pi\\right)^2}\\right]=0\n",
    "\\end{equation}\n",
    "```\n",
    "\n",
    "Para los coeficientes $b_k$ se expresa:\n",
    "\n",
    "```{math}\n",
    "\\begin{equation}\\nonumber\n",
    "b_k=\\frac{2}{T}\\int^{T}_{0}x(t)sen(k\\omega_0t)dt=\\frac{2}{0.02}\\int^{0.01}_{-0.01}150tsen(k\\omega_0t)dt\n",
    "\\end{equation}\n",
    "```\n",
    "\n",
    "```{math}\n",
    "\\begin{equation}\\nonumber\n",
    "b_k=15000\\left[{\\frac{-tcos(100k\\pi t)}{100k\\pi}}_{t=-0.01}^{t=0.01}+\\int^{0.01}_{-0.01}\\frac{cos(100k\\pi t)}{100k\\pi}dt\\right]\n",
    "\\end{equation}\n",
    "```\n",
    "\n",
    "```{math}\n",
    "\\begin{equation}\\nonumber\n",
    "b_k=15000\\left[{\\frac{-tcos(100k\\pi t)}{100k\\pi}}_{t=-0.01}^{t=0.01}-{\\frac{sen(100k\\pi t)}{(100k\\pi)^2}}_{t=-0.01}^{t=0.01}\\right]\n",
    "\\end{equation}\n",
    "```\n",
    "\n",
    "```{math}\n",
    "\\begin{equation}\\nonumber\n",
    "b_k=15000\\left[\\left[\\frac{(-0.01)cos(k\\pi)}{100k\\pi}-\\frac{(0.01)cos(k\\pi)}{100k\\pi}\\right]-\\left[\\frac{sen(k\\pi)}{(100k\\pi)^2}-\\frac{sen(-k\\pi t)}{(100k\\pi)^2}\\right]\\right]\n",
    "\\end{equation}\n",
    "```\n",
    "\n",
    "```{math}\n",
    "\\begin{equation}\\nonumber\n",
    "b_k=-\\frac{3}{k\\pi}\\left[cos(k\\pi t)\\right],k=1,2,3...\n",
    "\\end{equation}\n",
    "```\n",
    "\n",
    "El código de MATLAB que permite calcular la serie trigonométrica de Fourier de la función diente de sierra es el siguiente"
   ]
  },
  {
   "cell_type": "code",
   "execution_count": 20,
   "id": "37561399-986c-4c1c-9b9e-fac12d371182",
   "metadata": {},
   "outputs": [
    {
     "data": {
      "image/png": "[encoded data removed]"
     },
     "execution_count": 20,
     "metadata": {},
     "output_type": "execute_result"
    }
   ],
   "source": [
    "\n",
    "n = 15;   \n",
    "figure\n",
    "hold on \n",
    "\n",
    "x_t =0*t;\n",
    "\n",
    "for k = 1:n\n",
    "     bn = -3/(k*pi)*(cos(k*pi));\n",
    "     x_t = x_t + bn*sin(100*k*pi*t);\n",
    "end\n",
    "\n",
    "plot(t,x_t,'k'),grid"
   ]
  },
  {
   "cell_type": "markdown",
   "id": "47d6af0d-56ae-4d64-ad25-2dee94730f27",
   "metadata": {},
   "source": [
    "Para comparar $g(t)$ con su aproximación usando la serie trigonométrica de Fourier se unas las instrucciones siguientes:"
   ]
  },
  {
   "cell_type": "code",
   "execution_count": 21,
   "id": "78235036-9fc4-40fb-8d7b-21ed0873965f",
   "metadata": {},
   "outputs": [
    {
     "data": {
      "image/png": "[encoded data removed]"
     },
     "execution_count": 21,
     "metadata": {},
     "output_type": "execute_result"
    }
   ],
   "source": [
    "figure\n",
    "plot(t,g);\n",
    "xlabel(\"t\");\n",
    "ylabel(\"g(t)\")\n",
    "axis([-0.03 0.03 -1.8 1.8]) %La istrucción axis ajusta los ejes de la gráfica\n",
    "grid;\n",
    "hold on\n",
    "plot(t,x_t,'k')\n",
    "legend(\"Señal diente de sierra\",\"Aproximación\")"
   ]
  },
  {
   "cell_type": "code",
   "execution_count": null,
   "id": "39f31519-9fa9-4aa4-bd99-d7739fd3e6db",
   "metadata": {},
   "outputs": [],
   "source": []
  }
 ],
 "metadata": {
  "kernelspec": {
   "display_name": "MATLAB Kernel",
   "language": "matlab",
   "name": "jupyter_matlab_kernel"
  },
  "language_info": {
   "file_extension": ".m",
   "mimetype": "text/x-matlab",
   "name": "matlab"
  }
 },
 "nbformat": 4,
 "nbformat_minor": 5
}
